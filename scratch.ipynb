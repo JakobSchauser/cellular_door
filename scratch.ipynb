{
 "cells": [
  {
   "cell_type": "code",
   "execution_count": 1,
   "id": "35de2cc0",
   "metadata": {},
   "outputs": [],
   "source": [
    "import numpy as np"
   ]
  },
  {
   "cell_type": "code",
   "execution_count": 11,
   "id": "93e9aa40",
   "metadata": {},
   "outputs": [],
   "source": [
    "t = np.load(\"toshow.npy\")"
   ]
  },
  {
   "cell_type": "code",
   "execution_count": 4,
   "id": "6a28caf1",
   "metadata": {},
   "outputs": [
    {
     "data": {
      "text/plain": [
       "(120, 5000, 3)"
      ]
     },
     "execution_count": 4,
     "metadata": {},
     "output_type": "execute_result"
    }
   ],
   "source": [
    "t.shape"
   ]
  },
  {
   "cell_type": "code",
   "execution_count": 15,
   "id": "076e914b",
   "metadata": {},
   "outputs": [
    {
     "name": "stdout",
     "output_type": "stream",
     "text": [
      "(600000, 3)\n",
      "(120, 5000, 3)\n"
     ]
    }
   ],
   "source": [
    "# make the shape of the array possible to save as csv\n",
    "# t = t.reshape(t.shape[0], -1)\n",
    "\n",
    "tt = []\n",
    "for i in range(t.shape[0]):\n",
    "    tt.extend(t[i])\n",
    "tt = np.array(tt)\n",
    "print(tt.shape)\n",
    "np.savetxt(\"toshow.csv\", tt, delimiter=\",\")\n",
    "print(t.shape)"
   ]
  }
 ],
 "metadata": {
  "kernelspec": {
   "display_name": "drosophila",
   "language": "python",
   "name": "python3"
  },
  "language_info": {
   "codemirror_mode": {
    "name": "ipython",
    "version": 3
   },
   "file_extension": ".py",
   "mimetype": "text/x-python",
   "name": "python",
   "nbconvert_exporter": "python",
   "pygments_lexer": "ipython3",
   "version": "3.10.13"
  }
 },
 "nbformat": 4,
 "nbformat_minor": 5
}
