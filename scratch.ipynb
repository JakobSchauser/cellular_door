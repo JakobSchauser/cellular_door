{
 "cells": [
  {
   "cell_type": "code",
   "execution_count": 1,
   "id": "35de2cc0",
   "metadata": {},
   "outputs": [],
   "source": [
    "import numpy as np"
   ]
  },
  {
   "cell_type": "code",
   "execution_count": 2,
   "id": "93e9aa40",
   "metadata": {},
   "outputs": [],
   "source": [
    "t = np.load(\"anis6.npy\")\n",
    "props = np.load(\"anis6_props.npy\")"
   ]
  },
  {
   "cell_type": "code",
   "execution_count": 3,
   "id": "6a28caf1",
   "metadata": {},
   "outputs": [
    {
     "data": {
      "text/plain": [
       "(120, 5000, 3)"
      ]
     },
     "execution_count": 3,
     "metadata": {},
     "output_type": "execute_result"
    }
   ],
   "source": [
    "t.shape"
   ]
  },
  {
   "cell_type": "code",
   "execution_count": 7,
   "id": "96280552",
   "metadata": {},
   "outputs": [
    {
     "data": {
      "text/plain": [
       "(1, 5000)"
      ]
     },
     "execution_count": 7,
     "metadata": {},
     "output_type": "execute_result"
    }
   ],
   "source": [
    "props.shape"
   ]
  },
  {
   "cell_type": "code",
   "execution_count": 8,
   "id": "076e914b",
   "metadata": {},
   "outputs": [],
   "source": [
    "# make the shape of the array possible to save as csv\n",
    "# t = t.reshape(t.shape[0], -1)\n",
    "\n",
    "tt = []\n",
    "for i in range(t.shape[0]):\n",
    "    # print(t[i].shape, props[i].shape) (5000, 3) (5000,)\n",
    "    ttt = np.hstack((t[i], props[0][:, None]))\n",
    "    tt.extend(ttt)\n",
    "# tt = np.array(tt)\n",
    "\n",
    "firstline = [5000]*120\n",
    "\n",
    "#add first line\n",
    "tt = [firstline] + tt\n",
    "\n",
    "# save to csv without numpy\n",
    "with open(\"drosophila.csv\", \"w\") as f:\n",
    "    for row in tt:\n",
    "        f.write(\",\".join(map(str, row)) + \"\\n\")"
   ]
  },
  {
   "cell_type": "code",
   "execution_count": null,
   "id": "152b259b",
   "metadata": {},
   "outputs": [],
   "source": []
  }
 ],
 "metadata": {
  "kernelspec": {
   "display_name": "drosophila",
   "language": "python",
   "name": "python3"
  },
  "language_info": {
   "codemirror_mode": {
    "name": "ipython",
    "version": 3
   },
   "file_extension": ".py",
   "mimetype": "text/x-python",
   "name": "python",
   "nbconvert_exporter": "python",
   "pygments_lexer": "ipython3",
   "version": "3.10.13"
  }
 },
 "nbformat": 4,
 "nbformat_minor": 5
}
